{
 "cells": [
  {
   "cell_type": "code",
   "execution_count": 1,
   "metadata": {},
   "outputs": [],
   "source": [
    "from pycognito.aws_srp import AWSSRP\n",
    "from getpass import getpass\n",
    "from pprint import pprint\n",
    "\n",
    "import boto3\n",
    "import pandas as pd\n",
    "import json\n",
    "import requests\n",
    "\n",
    "BASE_URL=\"https://api.carta.contextualize.us.com\""
   ]
  },
  {
   "cell_type": "markdown",
   "metadata": {},
   "source": [
    "# Create a CSV file for dashboards"
   ]
  },
  {
   "cell_type": "code",
   "execution_count": 2,
   "metadata": {},
   "outputs": [
    {
     "name": "stdout",
     "output_type": "stream",
     "text": [
      "            Layer  time on  time off  time exposition  distance on  \\\n",
      "renishaw 0      1  1.90473   1.06816          2.97280     2.272890   \n",
      "         1      2  1.90924   1.50222          3.41146     2.267675   \n",
      "         2      3  1.90472   1.07359          2.97831     2.278525   \n",
      "         3      4  1.90924   1.48980          3.39904     2.267721   \n",
      "         4      5  1.90472   1.07173          2.97645     2.278555   \n",
      "\n",
      "            distance off  total distance  avg speed on  avg speed off  \\\n",
      "renishaw 0      0.655434        2.933990      1.193287       0.613610   \n",
      "         1      0.738088        3.005763      1.187737       0.491331   \n",
      "         2      0.682365        2.960889      1.196252       0.635592   \n",
      "         3      0.675910        2.943630      1.187761       0.453692   \n",
      "         4      0.673262        2.951816      1.196268       0.628201   \n",
      "\n",
      "            avg speed   machine  \n",
      "renishaw 0   0.986945  renishaw  \n",
      "         1   0.881078  renishaw  \n",
      "         2   0.994151  renishaw  \n",
      "         3   0.866018  renishaw  \n",
      "         4   0.991724  renishaw  \n",
      "             Layer  time on  time off  time exposition  distance on  \\\n",
      "aconity 828    844  0.96662   1.07119          2.03781     1.187130   \n",
      "        829    845  0.96971   1.32394          2.29365     1.192522   \n",
      "        830    846  0.96691   1.13210          2.09901     1.187748   \n",
      "        831    847  0.97022   1.26223          2.23245     1.193212   \n",
      "        832    848  0.97020   0.02061          0.02061     1.187650   \n",
      "\n",
      "             distance off  total distance  avg speed on  avg speed off  \\\n",
      "aconity 828      1.873381        3.060511   1228.124783    1748.878560   \n",
      "        829      2.111413        3.303935   1229.772072    1594.794883   \n",
      "        830      1.901751        3.089498   1228.395112    1679.843479   \n",
      "        831      2.094441        3.287654   1229.836994    1659.318230   \n",
      "        832      0.007151        0.007151   1224.129046     346.986192   \n",
      "\n",
      "               avg speed  machine  \n",
      "aconity 828  1501.862883  aconity  \n",
      "        829  1440.470435  aconity  \n",
      "        830  1471.883564  aconity  \n",
      "        831  1472.666218  aconity  \n",
      "        832   346.986192  aconity  \n"
     ]
    }
   ],
   "source": [
    "data = pd.read_excel(\"kinematics_summary.xlsx\", None) \n",
    "df = pd.concat(data)\n",
    "df[\"machine\"] = df.index.get_level_values(0)\n",
    "print(df.head())\n",
    "print(df.tail())\n",
    "df.reset_index(drop=True, inplace=True)\n",
    "df.to_csv(\"Laser Data.csv\")"
   ]
  },
  {
   "cell_type": "markdown",
   "metadata": {},
   "source": [
    "# Upload file to Carta\n",
    "\n",
    "Note: Files sent to the `carta-dashboards` directory will be selectable in Carta"
   ]
  },
  {
   "cell_type": "markdown",
   "metadata": {},
   "source": [
    "## Authenticate"
   ]
  },
  {
   "cell_type": "code",
   "execution_count": 10,
   "metadata": {},
   "outputs": [
    {
     "name": "stdin",
     "output_type": "stream",
     "text": [
      "Enter your Carta username:  ········\n"
     ]
    }
   ],
   "source": [
    "username = getpass(\"Enter your Carta username: \")"
   ]
  },
  {
   "cell_type": "code",
   "execution_count": 11,
   "metadata": {},
   "outputs": [
    {
     "name": "stdin",
     "output_type": "stream",
     "text": [
      "Enter your Carta password:  ········\n"
     ]
    }
   ],
   "source": [
    "password = getpass(\"Enter your Carta password: \")"
   ]
  },
  {
   "cell_type": "code",
   "execution_count": 12,
   "metadata": {},
   "outputs": [],
   "source": [
    "response = requests.get(\n",
    "    url=f\"{BASE_URL}/auth\"\n",
    ")\n",
    "userPool = json.loads(response.content)\n",
    "poolId = userPool[\"userPoolId\"]\n",
    "region = userPool[\"region\"]\n",
    "clientId = userPool[\"userPoolWebClientId\"]\n",
    "\n",
    "client = boto3.client(\"cognito-idp\", region_name=region)\n",
    "aws = AWSSRP(username=username, \n",
    "             password=password, \n",
    "             pool_id=poolId,\n",
    "             client_id=clientId, \n",
    "             client=client)\n",
    "tokens = aws.authenticate_user()\n",
    "idToken = tokens['AuthenticationResult']['IdToken']"
   ]
  },
  {
   "cell_type": "markdown",
   "metadata": {},
   "source": [
    "## Upload the file"
   ]
  },
  {
   "cell_type": "code",
   "execution_count": 13,
   "metadata": {},
   "outputs": [
    {
     "name": "stdout",
     "output_type": "stream",
     "text": [
      "Response 200: OK\n",
      "{'dateCreated': '2023-11-15T14:36:19.0473829+00:00',\n",
      " 'dateModified': '2023-11-15T14:36:19.0473829+00:00',\n",
      " 'id': '0cc5e9b4-ad74-2e6a-fbf5-5ff1b93199f6',\n",
      " 'name': 'Laser Data.csv',\n",
      " 'owner': 'blopez',\n",
      " 'path': 'carta-dashboards/Laser Data.csv',\n",
      " 'source': 'Carta',\n",
      " 'type': 'File'}\n"
     ]
    }
   ],
   "source": [
    "upload_file = open(\"Laser Data.csv\", \"rb\")\n",
    "file_stream = {'file':(\"carta-dashboards/Laser Data.csv\",upload_file.read())} # Note that the file goes into carta-dashboards\n",
    "response = requests.post(\n",
    "    url=f\"{BASE_URL}/files/Carta\",\n",
    "    files=file_stream,\n",
    "    headers={\"Authorization\": \"Bearer {}\".format(idToken)},    \n",
    "    stream=True\n",
    ")\n",
    "upload_file.close()\n",
    "print(f\"Response {response.status_code}: {response.reason}\")\n",
    "pprint(json.loads(response.text))"
   ]
  },
  {
   "cell_type": "markdown",
   "metadata": {},
   "source": [
    "## Grant permissions\n",
    "\n",
    "Allow other UTEP users to view this file."
   ]
  },
  {
   "cell_type": "code",
   "execution_count": 14,
   "metadata": {},
   "outputs": [
    {
     "name": "stdout",
     "output_type": "stream",
     "text": [
      "Response 200: OK\n",
      "'Read'\n"
     ]
    }
   ],
   "source": [
    "fileId=json.loads(response.text)['id']\n",
    "response = requests.put(\n",
    "    url=f\"{BASE_URL}/permissions/{fileId}/UTEP:All?userType=userGroup&role=guest\",\n",
    "    headers={\"Authorization\": \"Bearer {}\".format(idToken)}\n",
    ")\n",
    "print(f\"Response {response.status_code}: {response.reason}\")\n",
    "pprint(json.loads(response.text))"
   ]
  },
  {
   "cell_type": "markdown",
   "metadata": {},
   "source": [
    "Allow Bryant's user to edit the file, in case he wants to update the file in future:"
   ]
  },
  {
   "cell_type": "code",
   "execution_count": 15,
   "metadata": {},
   "outputs": [
    {
     "name": "stdout",
     "output_type": "stream",
     "text": [
      "Response 200: OK\n",
      "'Execute, Write, Read, Clone'\n"
     ]
    }
   ],
   "source": [
    "response = requests.put(\n",
    "    url=f\"{BASE_URL}/permissions/{fileId}/blopez?userType=user&role=editor\",\n",
    "    headers={\"Authorization\": \"Bearer {}\".format(idToken)}\n",
    ")\n",
    "print(f\"Response {response.status_code}: {response.reason}\")\n",
    "pprint(json.loads(response.text))"
   ]
  },
  {
   "cell_type": "markdown",
   "metadata": {},
   "source": [
    "## Update the file\n",
    "\n",
    "If you want to make changes to the file, do the following: First get a listing of all dashboard files, in order to get the file identifier of the file that needs updating. Then, update the file through a `PATCH` request. "
   ]
  },
  {
   "cell_type": "code",
   "execution_count": 16,
   "metadata": {},
   "outputs": [
    {
     "name": "stdout",
     "output_type": "stream",
     "text": [
      "Response 200: OK\n",
      "[{'dateCreated': '2023-08-11T23:11:30.3092581+00:00',\n",
      "  'dateModified': '2023-09-26T20:02:23.2971109+00:00',\n",
      "  'id': '7ac4f36f-4305-3c5c-72c0-6f32fb2ba80b',\n",
      "  'name': 'Global Test Artifact Data Exchange Program.csv',\n",
      "  'owner': 'admin.utep',\n",
      "  'path': '/carta-dashboards/Global Test Artifact Data Exchange Program.csv',\n",
      "  'source': 'Carta',\n",
      "  'type': 'File'},\n",
      " {'dateCreated': '2023-11-15T14:36:19.0473829+00:00',\n",
      "  'dateModified': '2023-11-15T14:36:19.0473829+00:00',\n",
      "  'id': '0cc5e9b4-ad74-2e6a-fbf5-5ff1b93199f6',\n",
      "  'name': 'Laser Data.csv',\n",
      "  'owner': 'blopez',\n",
      "  'path': '/carta-dashboards/Laser Data.csv',\n",
      "  'source': 'Carta',\n",
      "  'type': 'File'},\n",
      " {'dateCreated': '2023-08-14T21:17:31.8075689+00:00',\n",
      "  'dateModified': '2023-08-14T21:57:27.8137749+00:00',\n",
      "  'id': '54c4faf4-a090-ba1c-f366-aa627894f4f6',\n",
      "  'name': 'Laser Data.csv',\n",
      "  'owner': 'admin.utep',\n",
      "  'path': '/carta-dashboards/Laser Data.csv',\n",
      "  'source': 'Carta',\n",
      "  'type': 'File'}]\n"
     ]
    }
   ],
   "source": [
    "response = requests.get(\n",
    "    url=f\"{BASE_URL}/files/Carta/list\",\n",
    "    params = {\"path\" : \"/carta-dashboards/\"},\n",
    "    headers={\"Authorization\": \"Bearer {}\".format(idToken)}\n",
    ")\n",
    "print(f\"Response {response.status_code}: {response.reason}\")\n",
    "pprint(json.loads(response.text))"
   ]
  },
  {
   "cell_type": "code",
   "execution_count": 17,
   "metadata": {},
   "outputs": [
    {
     "name": "stdout",
     "output_type": "stream",
     "text": [
      "Response 200: OK\n",
      "{'dateCreated': '2023-11-15T14:36:19.0473829+00:00',\n",
      " 'dateModified': '2023-11-15T14:37:19.9445532+00:00',\n",
      " 'id': '0cc5e9b4-ad74-2e6a-fbf5-5ff1b93199f6',\n",
      " 'name': 'Laser Data.csv',\n",
      " 'owner': 'blopez',\n",
      " 'path': '/carta-dashboards/Laser Data.csv',\n",
      " 'source': 'Carta',\n",
      " 'type': 'File'}\n"
     ]
    }
   ],
   "source": [
    "update_file = open(\"Laser Data.csv\", \"rb\")\n",
    "file_stream = {'file':(\"carta-dashboards/Laser Data.csv\",update_file.read())} \n",
    "response = requests.patch(\n",
    "    url=f\"{BASE_URL}/files/Carta/file/{fileId}\",\n",
    "    files=file_stream,\n",
    "    headers={\"Authorization\": \"Bearer {}\".format(idToken)},    \n",
    "    stream=True\n",
    ")\n",
    "update_file.close()\n",
    "print(f\"Response {response.status_code}: {response.reason}\")\n",
    "pprint(json.loads(response.text))"
   ]
  },
  {
   "cell_type": "code",
   "execution_count": null,
   "metadata": {},
   "outputs": [],
   "source": []
  }
 ],
 "metadata": {
  "kernelspec": {
   "display_name": "Python 3 (ipykernel)",
   "language": "python",
   "name": "python3"
  },
  "language_info": {
   "codemirror_mode": {
    "name": "ipython",
    "version": 3
   },
   "file_extension": ".py",
   "mimetype": "text/x-python",
   "name": "python",
   "nbconvert_exporter": "python",
   "pygments_lexer": "ipython3",
   "version": "3.10.5"
  }
 },
 "nbformat": 4,
 "nbformat_minor": 4
}
